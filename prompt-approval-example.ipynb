{
 "cells": [
  {
   "cell_type": "markdown",
   "id": "5cb254a5-4535-4459-84ab-adc973dd5b26",
   "metadata": {},
   "source": [
    "# Manual approval for Prompt Management in Amazon Bedrock"
   ]
  },
  {
   "cell_type": "markdown",
   "id": "69bf25ab-ff92-42de-92a5-0ec083cf4706",
   "metadata": {},
   "source": [
    "Amazon Bedrock allows you to create and save prompts in a Prompt management. A prompt is a reusable message that can be integrated with larger applications. You can create your own prompts, select models to run inference on them, and configure the inference parameters to use.\n",
    "\n",
    "You can continually test your prompt and iterate on it. When you're satisfied with a configuration, you can then create a version of it to deploy to production. To ensure quality and reliability, it is recommended to implement a manual approval process for new versions of prompts before deploying them to production environments.\n",
    "\n",
    "In this notebook we will learn how to build a manual approval workflow for prompt management."
   ]
  },
  {
   "cell_type": "markdown",
   "id": "ac1c8dac-3ed5-423e-b556-28c3b6263cca",
   "metadata": {},
   "source": [
    "## Import needed libraries and clients\n",
    "Let's start by importing the needed libraries and setting up the clients needed for the notebook to work. "
   ]
  },
  {
   "cell_type": "code",
   "execution_count": null,
   "id": "78a55ccf-d627-451d-aac3-2db7cfd6e73f",
   "metadata": {},
   "outputs": [],
   "source": [
    "import json\n",
    "import time\n",
    "import uuid\n",
    "import boto3\n",
    "from datetime import datetime\n",
    "from src.utils import create_base_infrastructure, create_bedrock_flow_role, create_dynamodb_item, prepare_and_create_flow_alias, executePromptFlow, update_flow_prompt\n",
    "dynamodb_resource = boto3.resource('dynamodb')\n",
    "\n",
    "iam = boto3.client('iam')\n",
    "sns = boto3.client('sns')\n",
    "bedrock_ag = boto3.client('bedrock-agent')\n",
    "cloudformation = boto3.client('cloudformation')\n",
    "bedrock_agent_runtime = boto3.client('bedrock-agent-runtime')"
   ]
  },
  {
   "cell_type": "markdown",
   "id": "9df2df82-b059-4be1-9ecd-e53a91a4f84d",
   "metadata": {},
   "source": [
    "## Create the infrastructure for the solution \n",
    "We are going to deploy the infrastructure for this solution using an AWS CloudFormation template we have already created. \n",
    "\n",
    "The template will deploy the following:\n",
    "\n",
    "**SNS topic**: A publish-subscribe messaging service for sending notifications about new prompt versions requiring approval.\n",
    "\n",
    "**API Gateway**: A fully managed service for creating, publishing, and securing APIs, used for exposing the approve and reject endpoints.\n",
    "\n",
    "**DynamoDB table**: A NoSQL database for storing prompt metadata, including the prompt text, version, and approval status.\n",
    "\n",
    "**Lambda Functions**:\n",
    "- `TriggerLambdaFunction`: A serverless function triggered by DynamoDB streams to send approval notifications via SNS.\n",
    "    \n",
    "- `ApproveLambdaFunction`: A serverless function invoked by the API Gateway to update the prompt version status to \"Approved\" in DynamoDB.\n",
    "    \n",
    "- `RejectLambdaFunction`: A serverless function invoked by the API Gateway to update the prompt version status to \"Rejected\" in DynamoDB."
   ]
  },
  {
   "cell_type": "code",
   "execution_count": null,
   "id": "57d43c9e-0d1f-4293-b7d6-a5d984bb9165",
   "metadata": {},
   "outputs": [],
   "source": [
    "def short_uuid():\n",
    "    uuid_str = str(uuid.uuid4())\n",
    "    return uuid_str[:4]\n",
    "\n",
    "solution_id = 'pmma{}'.format(short_uuid()).lower()\n",
    "dynamodb_table_name, sns_topic_arn = create_base_infrastructure(solution_id)"
   ]
  },
  {
   "cell_type": "markdown",
   "id": "149af647-7798-4306-8536-fc39a4839f82",
   "metadata": {},
   "source": [
    "## Subscribe an approvers' email to the SNS Topic\n",
    "We are going to subscribe an email address to the SNS topic"
   ]
  },
  {
   "cell_type": "code",
   "execution_count": null,
   "id": "efa5dc49-caf0-4e76-8421-dc6ad7e36894",
   "metadata": {},
   "outputs": [],
   "source": [
    "email_address = '<INSERT YOUR EMAIL>'\n",
    "try:\n",
    "    response = sns.subscribe(\n",
    "        TopicArn=sns_topic_arn,\n",
    "        Protocol='email',\n",
    "        Endpoint=email_address\n",
    "    )\n",
    "    print(f\"Subscription created: {response['SubscriptionArn']}\")\n",
    "except Exception as e:\n",
    "    print(f\"Error subscribing email: {e}\")\n",
    "\n",
    "#time.sleep(20)"
   ]
  },
  {
   "cell_type": "markdown",
   "id": "d5ce9378-f76d-43b7-bcb1-91020bb87213",
   "metadata": {},
   "source": [
    " <div class=\"alert alert-block alert-warning\">\n",
    "    <b>IMPORTANT</b>: You will need to accept the subscription email to receive actions emails. The confirmation email can take a couple of minutes to arrive.\n",
    " </div>\n"
   ]
  },
  {
   "cell_type": "markdown",
   "id": "7f30c826-e7dc-4645-bb87-2ea816348f0b",
   "metadata": {},
   "source": [
    "## Add a new prompt to Prompt Management\n",
    "We are going to create a base prompt in Amazon Bedrock Prompt Management and Amazon DynamoDB."
   ]
  },
  {
   "cell_type": "code",
   "execution_count": null,
   "id": "16887306-5d42-40e3-8be6-73caf67e0f00",
   "metadata": {},
   "outputs": [],
   "source": [
    "promptText =\"\"\"\n",
    "                You're an assistant which extracts data from text. Consider the input text in the <input_text> tags and extract the following information: \\\n",
    "                Name, City, Company. Return this data in a json format to later on process.\n",
    "                \n",
    "                <input_text>\n",
    "                    {{input_text}}\n",
    "                </input_text>\n",
    "    \n",
    "                Skip any preamble or any other text apart from the JSON in your answer.\n",
    "                \n",
    "                \"\"\""
   ]
  },
  {
   "cell_type": "code",
   "execution_count": null,
   "id": "0b476f26-7d77-4e82-a8cf-118bf2a7d264",
   "metadata": {},
   "outputs": [],
   "source": [
    "modelInvokeId = \"amazon.titan-text-premier-v1:0\"\n",
    "prompt_name = \"data-extraction-prompt-{}\".format(solution_id)\n",
    "\n",
    "response = bedrock_ag.create_prompt(\n",
    "    name = prompt_name,\n",
    "    description = \"Prompt for extracting a set of entities from a provided text.\",\n",
    "    variants = [\n",
    "        {\n",
    "            \"inferenceConfiguration\": {\n",
    "                \"text\": {\n",
    "                    \"maxTokens\": 2000,\n",
    "                    \"temperature\": 0,\n",
    "                }\n",
    "            },\n",
    "            \"modelId\": modelInvokeId,\n",
    "            \"name\": \"variantOne\",\n",
    "            \"templateConfiguration\": {\n",
    "                \"text\": {\n",
    "                    \"inputVariables\": [\n",
    "                        {\n",
    "                            \"name\": \"input_text\"\n",
    "                        },\n",
    "                        {\n",
    "                            \"name\": \"output\"\n",
    "                        }\n",
    "                    ],\n",
    "                    \"text\": promptText\n",
    "                }\n",
    "            },\n",
    "            \"templateType\": \"TEXT\"\n",
    "        }\n",
    "    ],\n",
    "    defaultVariant = \"variantOne\"\n",
    ")"
   ]
  },
  {
   "cell_type": "code",
   "execution_count": null,
   "id": "2685ae38-fb78-4924-9a64-4ea9671240f0",
   "metadata": {},
   "outputs": [],
   "source": [
    "promptId = response[\"id\"]\n",
    "promptArn = response[\"arn\"]\n",
    "promptName = response[\"name\"]\n",
    "promptVersion = response[\"version\"]\n",
    "print(f\"Prompt ID: {promptId}\\nPrompt ARN: {promptArn}\\nPrompt Name: {promptName}\\nPrompt Version: {promptVersion}\")"
   ]
  },
  {
   "cell_type": "markdown",
   "id": "b9a3f9f4-64cc-4b2e-ae14-6419e6bca0c6",
   "metadata": {},
   "source": [
    "### Store the information in Amazon DynamoDB\n",
    "Let's store this information in our Amazon DynamoDB table."
   ]
  },
  {
   "cell_type": "code",
   "execution_count": null,
   "id": "15822e60-073b-4906-bf48-710d9d844ddf",
   "metadata": {},
   "outputs": [],
   "source": [
    "print(create_dynamodb_item(dynamodb_table_name, promptId, promptName, promptVersion, promptText))"
   ]
  },
  {
   "cell_type": "markdown",
   "id": "22748ff2-98e1-4296-b643-c82a664d482c",
   "metadata": {},
   "source": [
    "## Approve or Deny the Prompt\n",
    "Once the prompt has been submitted, you will receive an email with the two options to take, Approve or Deny.\n",
    "\n",
    "Each action will do it's purpose and change the value in the Amazon DynamoDB table. \n",
    "\n",
    "Head over to the Amazon DynamoDB table to see the status change."
   ]
  },
  {
   "cell_type": "markdown",
   "id": "a8ce2cee-1e50-4841-860c-ba9571055bd2",
   "metadata": {},
   "source": [
    "## Create Prompt Flow\n",
    "We will use Amazon Bedrock Prompt Flows to execute our prompt. "
   ]
  },
  {
   "cell_type": "code",
   "execution_count": null,
   "id": "ddb45c7b-d152-43ab-842e-7916d91b28e2",
   "metadata": {},
   "outputs": [],
   "source": [
    "flow_name = \"prompt-code-example-{}\".format(solution_id)\n",
    "flow_description = \"This is an example flow\"\n",
    "flow_alias_description = \"Alias for my prompt flow\"\n",
    "\n",
    "print(\"Starting the flow creation process...\")\n",
    "flow_role_arn = create_bedrock_flow_role(\"example-flow-role-{}\".format(solution_id))\n",
    "flow_id, flow_alias_id = prepare_and_create_flow_alias(flow_name, flow_description, flow_role_arn, promptArn, flow_alias_description)"
   ]
  },
  {
   "cell_type": "code",
   "execution_count": null,
   "id": "86ced564-10bf-4f27-8a98-f8856c8437a4",
   "metadata": {},
   "outputs": [],
   "source": [
    "executePromptFlow(\"My name is Dani Mitchell and I live in Madrid and work at AWS.\", flow_id, flow_alias_id)"
   ]
  },
  {
   "cell_type": "markdown",
   "id": "5be655d8-a919-4b84-b3b0-e4ee49288884",
   "metadata": {},
   "source": [
    "## Create a new prompt version\n",
    "When we create a new prompt version, the prompt management administrator will receive a notification regarding the new version created to approve it or not."
   ]
  },
  {
   "cell_type": "markdown",
   "id": "ea352f6f-be81-4659-a418-d07928e8cb05",
   "metadata": {},
   "source": [
    "### Update the prompt"
   ]
  },
  {
   "cell_type": "code",
   "execution_count": null,
   "id": "bdeb26cc-941f-42bd-8346-e15e31a7420c",
   "metadata": {},
   "outputs": [],
   "source": [
    "updatedPromptText =\"\"\"\n",
    "                    You're an assistant which extracts data from text. Consider the input text in the <input_text> tags and extract the following information: \\\n",
    "                    Name, Surname, City, Company. Return this data in a json format to later on process.\n",
    "                    \n",
    "                    <input_text>\n",
    "                        {{input_text}}\n",
    "                    </input_text>\n",
    "        \n",
    "                    Skip any preamble or any other text apart from the JSON in your answer.\n",
    "                \n",
    "                \"\"\"\n",
    "\n",
    "response = bedrock_ag.update_prompt(\n",
    "    name=promptName,\n",
    "    promptIdentifier= promptId,\n",
    "    description = \"Prompt for extracting a set of entities from a provided text.\",\n",
    "    variants = [\n",
    "        {\n",
    "            \"inferenceConfiguration\": {\n",
    "                \"text\": {\n",
    "                    \"maxTokens\": 2000,\n",
    "                    \"temperature\": 0,\n",
    "                }\n",
    "            },\n",
    "            \"modelId\": modelInvokeId,\n",
    "            \"name\": \"variantOne\",\n",
    "            \"templateConfiguration\": {\n",
    "                \"text\": {\n",
    "                    \"inputVariables\": [\n",
    "                        {\n",
    "                            \"name\": \"input_text\"\n",
    "                        },\n",
    "                        {\n",
    "                            \"name\": \"output\"\n",
    "                        }\n",
    "                    ],\n",
    "                    \"text\": updatedPromptText\n",
    "                }\n",
    "            },\n",
    "            \"templateType\": \"TEXT\"\n",
    "        }\n",
    "    ],\n",
    "    defaultVariant = \"variantOne\"\n",
    ")"
   ]
  },
  {
   "cell_type": "markdown",
   "id": "1fe761ac-2bee-4f32-9573-ef49549a26d5",
   "metadata": {},
   "source": [
    "### Create a prompt version"
   ]
  },
  {
   "cell_type": "code",
   "execution_count": null,
   "id": "9f9d7e6a-2af5-4d9d-b3d1-98e670096fa0",
   "metadata": {},
   "outputs": [],
   "source": [
    "response = bedrock_ag.create_prompt_version(\n",
    "    description='Included \"Surname\" as additional entity to extract',\n",
    "    promptIdentifier=promptId\n",
    ")"
   ]
  },
  {
   "cell_type": "code",
   "execution_count": null,
   "id": "f4dcb2d7-c053-4fad-a0a9-50c9efb58857",
   "metadata": {},
   "outputs": [],
   "source": [
    "promptId = response['id']\n",
    "promptName = response['name']\n",
    "promptVersion = response['version']\n",
    "promptText = response['variants'][0]['templateConfiguration']['text']['text']\n",
    "print(f\"Prompt ID: {promptId}\\nPrompt ARN: {promptArn}\\nPrompt Name: {promptName}\\nPrompt Version: {promptVersion}\")"
   ]
  },
  {
   "cell_type": "code",
   "execution_count": null,
   "id": "baface55-38d3-4ac4-a494-af2e8be2a5d6",
   "metadata": {},
   "outputs": [],
   "source": [
    "create_dynamodb_item(dynamodb_table_name, promptId, promptName, promptVersion, promptText)"
   ]
  },
  {
   "cell_type": "markdown",
   "id": "4920780e-8b94-45c2-becf-50f5912e3cf0",
   "metadata": {},
   "source": [
    "## Approve or Deny the Prompt Version Update\n",
    "Once the new version has been submitted, you will receive an email with the two options to take, Approve or Deny.\n",
    "\n",
    "Each action will do it's purpose and change the value in the Amazon DynamoDB table. \n",
    "\n",
    "Head over to the Amazon DynamoDB table to see the status change."
   ]
  },
  {
   "cell_type": "markdown",
   "id": "cd125428-669e-423f-8835-dae51e8ff366",
   "metadata": {},
   "source": [
    "## Update the Prompt Flow and create a new version"
   ]
  },
  {
   "cell_type": "code",
   "execution_count": null,
   "id": "24c3744e-fa0f-444f-b544-e416c1bd97c1",
   "metadata": {},
   "outputs": [],
   "source": [
    "update_flow_prompt(flow_id, promptArn, promptId, promptVersion, flow_name, flow_description, flow_role_arn, dynamodb_table_name, flow_alias_id, flow_alias_description)"
   ]
  },
  {
   "cell_type": "code",
   "execution_count": null,
   "id": "6460a582-7f7b-4932-80d8-6df14c75cb4c",
   "metadata": {},
   "outputs": [],
   "source": [
    "executePromptFlow(\"My name is Dani Mitchell and I live in Madrid and work at AWS.\", flow_id, flow_alias_id)"
   ]
  },
  {
   "cell_type": "markdown",
   "id": "3a0c2285-c628-4402-b98c-0625a2ef4452",
   "metadata": {},
   "source": [
    "## Delete resources"
   ]
  },
  {
   "cell_type": "markdown",
   "id": "7df6128f-2932-41cb-bf8c-4d341de5ad79",
   "metadata": {},
   "source": [
    "Run the following cell to delete the created resources and avoid unnecesary costs. This should take about 1 minute to complete."
   ]
  },
  {
   "cell_type": "code",
   "execution_count": null,
   "id": "cd4658aa-0cb0-420b-862b-4a294b7a7e80",
   "metadata": {},
   "outputs": [],
   "source": [
    "try:\n",
    "    # Retrieve the stack information\n",
    "    stack_info = cloudformation.describe_stacks(StackName=solution_id)\n",
    "    stack_status = stack_info['Stacks'][0]['StackStatus']\n",
    "\n",
    "    # Check if the stack exists and is in a deletable state\n",
    "    if stack_status != 'DELETE_COMPLETE':\n",
    "        # Delete the stack\n",
    "        cloudformation.delete_stack(StackName=solution_id)\n",
    "        print(f'Deleting stack: {solution_id}')\n",
    "\n",
    "        # Wait for the stack deletion to complete\n",
    "        waiter = cloudformation.get_waiter('stack_delete_complete')\n",
    "        waiter.wait(StackName=solution_id)\n",
    "        print(f'Stack {solution_id} deleted successfully.')\n",
    "    else:\n",
    "        print(f'Stack {solution_id} does not exist or has already been deleted.')\n",
    "\n",
    "except cloudformation.exceptions.ClientError as e:\n",
    "    print(f'Error deleting stack {solution_id}: {e.response[\"Error\"][\"Message\"]}')\n",
    "\n",
    "# Delete the prompt\n",
    "try:\n",
    "    response = bedrock_ag.delete_prompt(\n",
    "        promptIdentifier=promptId\n",
    "    )\n",
    "    print(f'Prompt {promptId} deleted successfully.')\n",
    "except Exception as e:\n",
    "    print(f'Error deleting prompt {promptId}: {e}')\n",
    "\n",
    "# Delete the flow alias\n",
    "try:\n",
    "    response = bedrock_ag.delete_flow_alias(\n",
    "        aliasIdentifier=flow_alias_id,\n",
    "        flowIdentifier=flow_id\n",
    "    )\n",
    "    print(f'Flow alias deleted successfully.')\n",
    "except Exception as e:\n",
    "    print(f'Error deleting flow: {e}')\n",
    "\n",
    "# Delete the flow\n",
    "try:\n",
    "    response = bedrock_ag.delete_flow(\n",
    "        flowIdentifier=flow_id,\n",
    "        skipResourceInUseCheck=False\n",
    "    )\n",
    "    print(f'Flow deleted successfully.')\n",
    "except Exception as e:\n",
    "    print(f'Error deleting flow: {e}')"
   ]
  },
  {
   "cell_type": "code",
   "execution_count": null,
   "id": "e1ba1025-249c-44de-aebe-edf293559cbd",
   "metadata": {},
   "outputs": [],
   "source": []
  }
 ],
 "metadata": {
  "kernelspec": {
   "display_name": "Python 3 (ipykernel)",
   "language": "python",
   "name": "python3"
  },
  "language_info": {
   "codemirror_mode": {
    "name": "ipython",
    "version": 3
   },
   "file_extension": ".py",
   "mimetype": "text/x-python",
   "name": "python",
   "nbconvert_exporter": "python",
   "pygments_lexer": "ipython3",
   "version": "3.10.14"
  }
 },
 "nbformat": 4,
 "nbformat_minor": 5
}
